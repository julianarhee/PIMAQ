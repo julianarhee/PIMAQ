{
 "cells": [
  {
   "cell_type": "code",
   "execution_count": 1,
   "id": "53eae122",
   "metadata": {},
   "outputs": [],
   "source": [
    "from pypylon import pylon\n",
    "import os\n",
    "import yaml\n",
    "import time"
   ]
  },
  {
   "cell_type": "code",
   "execution_count": 2,
   "id": "bf26df07",
   "metadata": {},
   "outputs": [],
   "source": [
    "# !jt -t solarizedd -T -N -kl"
   ]
  },
  {
   "cell_type": "code",
   "execution_count": 3,
   "id": "2928d636",
   "metadata": {},
   "outputs": [
    {
     "name": "stdout",
     "output_type": "stream",
     "text": [
      "PySpin not found, cant acquire from FLIR cameras\n"
     ]
    }
   ],
   "source": [
    "from devices import Basler"
   ]
  },
  {
   "cell_type": "code",
   "execution_count": 4,
   "id": "f8c55bfd",
   "metadata": {},
   "outputs": [],
   "source": [
    "name='test'\n",
    "start_t = time.perf_counter()\n",
    "experiment = '%s_%s' %(name, time.strftime('%y%m%d_%H%M%S', time.localtime()))"
   ]
  },
  {
   "cell_type": "code",
   "execution_count": 5,
   "id": "553043f5",
   "metadata": {},
   "outputs": [],
   "source": [
    "config_path = '/home/julianarhee/Repositories/PIMAQ/config.yaml'\n",
    "with open(config_path) as f:\n",
    "    config = yaml.load(f, Loader=yaml.SafeLoader)"
   ]
  },
  {
   "cell_type": "code",
   "execution_count": 6,
   "id": "648114f6",
   "metadata": {},
   "outputs": [],
   "source": [
    "tuples=[]\n",
    "for camname, cam in config['cams'].items():\n",
    "    tup = (config, camname, cam, experiment, start_t)\n",
    "    tuples.append(tup)"
   ]
  },
  {
   "cell_type": "code",
   "execution_count": 7,
   "id": "6002bbf9",
   "metadata": {},
   "outputs": [
    {
     "data": {
      "text/plain": [
       "('right_top', 'Basler')"
      ]
     },
     "execution_count": 7,
     "metadata": {},
     "output_type": "execute_result"
    }
   ],
   "source": [
    "camname, cam['type']"
   ]
  },
  {
   "cell_type": "code",
   "execution_count": 8,
   "id": "3f610184",
   "metadata": {},
   "outputs": [
    {
     "data": {
      "text/plain": [
       "22297042"
      ]
     },
     "execution_count": 8,
     "metadata": {},
     "output_type": "execute_result"
    }
   ],
   "source": [
    "22297042 "
   ]
  },
  {
   "cell_type": "code",
   "execution_count": 9,
   "id": "f2495f7f",
   "metadata": {},
   "outputs": [],
   "source": [
    "info = pylon.DeviceInfo()\n",
    "info.SetSerialNumber(\"22297042\")\n",
    "cam  = pylon.InstantCamera(pylon.TlFactory.GetInstance().CreateFirstDevice(info))"
   ]
  },
  {
   "cell_type": "code",
   "execution_count": 12,
   "id": "4324d3e2",
   "metadata": {},
   "outputs": [],
   "source": [
    "cam.Open()"
   ]
  },
  {
   "cell_type": "code",
   "execution_count": 14,
   "id": "60119543",
   "metadata": {},
   "outputs": [],
   "source": [
    "cam.Close()"
   ]
  },
  {
   "cell_type": "code",
   "execution_count": null,
   "id": "acb6fd28",
   "metadata": {},
   "outputs": [],
   "source": []
  },
  {
   "cell_type": "code",
   "execution_count": 9,
   "id": "68492b05",
   "metadata": {},
   "outputs": [
    {
     "name": "stdout",
     "output_type": "stream",
     "text": [
      "Using libx264 to encode video, ignoring codec argument...\n",
      "Library version: 1.8.0\n",
      "Number of cameras detected: 1\n",
      "Serial:  22297042\n",
      "Done\n"
     ]
    }
   ],
   "source": [
    "device = Basler(serial=cam['serial'], \n",
    "    start_t=start_t, \n",
    "    options=cam['options'],\n",
    "    save=True,\n",
    "    savedir=config['savedir'],\n",
    "    experiment=experiment,\n",
    "    name=camname,\n",
    "    movie_format='ffmpeg',\n",
    "    metadata_format='hdf5', \n",
    "    uncompressed=False, # setting to False always because you don't need to calibrate it\n",
    "    preview=True,\n",
    "    verbose=True, #args.verbose,\n",
    "    strobe=cam['strobe'],\n",
    "    codec=config['codec']\n",
    "    )"
   ]
  },
  {
   "cell_type": "code",
   "execution_count": 10,
   "id": "13716f31",
   "metadata": {},
   "outputs": [
    {
     "data": {
      "text/plain": [
       "<pypylon.pylon.InstantCamera; proxy of <Swig Object of type 'Pylon::CInstantCamera *' at 0x7fde807bed20> >"
      ]
     },
     "execution_count": 10,
     "metadata": {},
     "output_type": "execute_result"
    }
   ],
   "source": [
    "device.cam"
   ]
  },
  {
   "cell_type": "code",
   "execution_count": 11,
   "id": "1455ce7e",
   "metadata": {},
   "outputs": [
    {
     "name": "stdout",
     "output_type": "stream",
     "text": [
      "here\n",
      "AcquisitionMode Continuous\n",
      "ExposureAuto Off\n",
      "ExposureMode Timed\n",
      "ExposureTime 68295.0\n",
      "BinningVertical 1\n",
      "Height 1200\n",
      "Width 1920\n",
      "OffsetX 0\n",
      "OffsetY 0\n",
      "PixelFormat Mono8\n",
      "AcquisitionFrameRate 15.0\n",
      "GainAuto Off\n",
      "Gain 1.0\n",
      "Started cam acquisition\n",
      "saving initialized: right_top\n"
     ]
    }
   ],
   "source": [
    "device.start()"
   ]
  },
  {
   "cell_type": "code",
   "execution_count": null,
   "id": "33566b4d",
   "metadata": {},
   "outputs": [],
   "source": []
  },
  {
   "cell_type": "markdown",
   "id": "bcca8be7",
   "metadata": {},
   "source": [
    "# Camera properties"
   ]
  },
  {
   "cell_type": "code",
   "execution_count": 9,
   "id": "46958996",
   "metadata": {},
   "outputs": [],
   "source": [
    "import basler_utils as bs"
   ]
  },
  {
   "cell_type": "code",
   "execution_count": 10,
   "id": "e506bd61",
   "metadata": {},
   "outputs": [
    {
     "data": {
      "text/plain": [
       "['__class__',\n",
       " '__del__',\n",
       " '__delattr__',\n",
       " '__dict__',\n",
       " '__dir__',\n",
       " '__doc__',\n",
       " '__eq__',\n",
       " '__format__',\n",
       " '__ge__',\n",
       " '__getattribute__',\n",
       " '__gt__',\n",
       " '__hash__',\n",
       " '__init__',\n",
       " '__init_subclass__',\n",
       " '__le__',\n",
       " '__lt__',\n",
       " '__module__',\n",
       " '__ne__',\n",
       " '__new__',\n",
       " '__reduce__',\n",
       " '__reduce_ex__',\n",
       " '__repr__',\n",
       " '__setattr__',\n",
       " '__sizeof__',\n",
       " '__str__',\n",
       " '__subclasshook__',\n",
       " '__weakref__',\n",
       " 'cleanup_powerup_state',\n",
       " 'compute_timestamp_offset',\n",
       " 'initialize_metadata_saving_hdf5',\n",
       " 'initialize_preview',\n",
       " 'loop',\n",
       " 'preview_worker',\n",
       " 'process',\n",
       " 'start',\n",
       " 'stop',\n",
       " 'stop_streaming',\n",
       " 'update_settings',\n",
       " 'write_metadata']"
      ]
     },
     "execution_count": 10,
     "metadata": {},
     "output_type": "execute_result"
    }
   ],
   "source": [
    "dir(Basler)"
   ]
  },
  {
   "cell_type": "code",
   "execution_count": null,
   "id": "d86c1464",
   "metadata": {},
   "outputs": [],
   "source": [
    "device.cleanup_powerup_state()"
   ]
  },
  {
   "cell_type": "code",
   "execution_count": 10,
   "id": "0d3055e2",
   "metadata": {},
   "outputs": [
    {
     "data": {
      "text/plain": [
       "{'AcquisitionMode': 'Continuous',\n",
       " 'ExposureAuto': 'Off',\n",
       " 'ExposureTime': 68295.0,\n",
       " 'BinningVertical': 1,\n",
       " 'Height': 1200,\n",
       " 'Width': 1920,\n",
       " 'OffsetX': 0,\n",
       " 'OffsetY': 0,\n",
       " 'PixelFormat': 'Mono8',\n",
       " 'AcquisitionFrameRateAuto': False,\n",
       " 'AcquisitionFrameRate': 15.0,\n",
       " 'GainAuto': 'Off',\n",
       " 'Gain': 1.0,\n",
       " 'SharpnessAuto': 'Off'}"
      ]
     },
     "execution_count": 10,
     "metadata": {},
     "output_type": "execute_result"
    }
   ],
   "source": [
    "device.options"
   ]
  },
  {
   "cell_type": "code",
   "execution_count": 11,
   "id": "f5d9c017",
   "metadata": {},
   "outputs": [
    {
     "data": {
      "text/plain": [
       "<pypylon.genicam.INodeMap; proxy of <Swig Object of type 'GENAPI_NAMESPACE::INodeMap *' at 0x7fdc01fa4db0> >"
      ]
     },
     "execution_count": 11,
     "metadata": {},
     "output_type": "execute_result"
    }
   ],
   "source": [
    "device.nodemap"
   ]
  },
  {
   "cell_type": "code",
   "execution_count": 12,
   "id": "6dbd2ffc",
   "metadata": {},
   "outputs": [
    {
     "name": "stdout",
     "output_type": "stream",
     "text": [
      "AcquisitionMode Continuous\n",
      "ERROR setting: AcquisitionMode Continuous\n",
      "error Error: Map not allocated : LogicalErrorException thrown (file 'NodeMap.cpp', line 278)\n",
      "ExposureAuto Off\n",
      "ERROR setting: ExposureAuto Off\n",
      "error Error: Map not allocated : LogicalErrorException thrown (file 'NodeMap.cpp', line 278)\n",
      "ExposureTime 68295.0\n",
      "ERROR setting: ExposureTime 68295.0\n",
      "error Error: Map not allocated : LogicalErrorException thrown (file 'NodeMap.cpp', line 278)\n",
      "BinningVertical 1\n",
      "ERROR setting: BinningVertical 1\n",
      "error Error: Map not allocated : LogicalErrorException thrown (file 'NodeMap.cpp', line 278)\n",
      "Height 1200\n",
      "ERROR setting: Height 1200\n",
      "error Error: Map not allocated : LogicalErrorException thrown (file 'NodeMap.cpp', line 278)\n",
      "Width 1920\n",
      "ERROR setting: Width 1920\n",
      "error Error: Map not allocated : LogicalErrorException thrown (file 'NodeMap.cpp', line 278)\n",
      "OffsetX 0\n",
      "ERROR setting: OffsetX 0\n",
      "error Error: Map not allocated : LogicalErrorException thrown (file 'NodeMap.cpp', line 278)\n",
      "OffsetY 0\n",
      "ERROR setting: OffsetY 0\n",
      "error Error: Map not allocated : LogicalErrorException thrown (file 'NodeMap.cpp', line 278)\n",
      "PixelFormat Mono8\n",
      "ERROR setting: PixelFormat Mono8\n",
      "error Error: Map not allocated : LogicalErrorException thrown (file 'NodeMap.cpp', line 278)\n",
      "AcquisitionFrameRateAuto False\n",
      "ERROR setting: AcquisitionFrameRateAuto False\n",
      "error Error: Map not allocated : LogicalErrorException thrown (file 'NodeMap.cpp', line 278)\n",
      "AcquisitionFrameRate 15.0\n",
      "ERROR setting: AcquisitionFrameRate 15.0\n",
      "error Error: Map not allocated : LogicalErrorException thrown (file 'NodeMap.cpp', line 278)\n",
      "GainAuto Off\n",
      "ERROR setting: GainAuto Off\n",
      "error Error: Map not allocated : LogicalErrorException thrown (file 'NodeMap.cpp', line 278)\n",
      "Gain 1.0\n",
      "ERROR setting: Gain 1.0\n",
      "error Error: Map not allocated : LogicalErrorException thrown (file 'NodeMap.cpp', line 278)\n",
      "SharpnessAuto Off\n",
      "ERROR setting: SharpnessAuto Off\n",
      "error Error: Map not allocated : LogicalErrorException thrown (file 'NodeMap.cpp', line 278)\n"
     ]
    }
   ],
   "source": [
    "\n",
    "for key, value in device.options.items():\n",
    "    print(key, value)\n",
    "    try:\n",
    "        bs.set_value(device.nodemap, key, value)\n",
    "    except Exception as e:\n",
    "        print(\"error\", e)\n",
    "    "
   ]
  },
  {
   "cell_type": "code",
   "execution_count": 12,
   "id": "b219336f",
   "metadata": {},
   "outputs": [
    {
     "ename": "LogicalErrorException",
     "evalue": "Map not allocated : LogicalErrorException thrown (file 'NodeMap.cpp', line 278)",
     "output_type": "error",
     "traceback": [
      "\u001b[0;31m---------------------------------------------------------------------------\u001b[0m",
      "\u001b[0;31mLogicalErrorException\u001b[0m                     Traceback (most recent call last)",
      "Input \u001b[0;32mIn [12]\u001b[0m, in \u001b[0;36m<cell line: 3>\u001b[0;34m()\u001b[0m\n\u001b[1;32m      1\u001b[0m nodename \u001b[38;5;241m=\u001b[39m \u001b[38;5;124m'\u001b[39m\u001b[38;5;124mAcquisitionMode\u001b[39m\u001b[38;5;124m'\u001b[39m\n\u001b[1;32m      2\u001b[0m value \u001b[38;5;241m=\u001b[39m \u001b[38;5;124m'\u001b[39m\u001b[38;5;124mContinuous\u001b[39m\u001b[38;5;124m'\u001b[39m\n\u001b[0;32m----> 3\u001b[0m node \u001b[38;5;241m=\u001b[39m \u001b[43mdevice\u001b[49m\u001b[38;5;241;43m.\u001b[39;49m\u001b[43mnodemap\u001b[49m\u001b[38;5;241;43m.\u001b[39;49m\u001b[43mGetNode\u001b[49m\u001b[43m(\u001b[49m\u001b[43mnodename\u001b[49m\u001b[43m)\u001b[49m\n",
      "File \u001b[0;32m~/anaconda3/envs/pimaq/lib/python3.8/site-packages/pypylon/genicam.py:1357\u001b[0m, in \u001b[0;36mINodeMap.GetNode\u001b[0;34m(self, Name)\u001b[0m\n\u001b[1;32m   1356\u001b[0m \u001b[38;5;28;01mdef\u001b[39;00m \u001b[38;5;21mGetNode\u001b[39m(\u001b[38;5;28mself\u001b[39m, Name: \u001b[38;5;124m\"\u001b[39m\u001b[38;5;124mGENICAM_NAMESPACE::gcstring const &\u001b[39m\u001b[38;5;124m\"\u001b[39m) \u001b[38;5;241m-\u001b[39m\u001b[38;5;241m>\u001b[39m \u001b[38;5;124m\"\u001b[39m\u001b[38;5;124mGENAPI_NAMESPACE::INode *\u001b[39m\u001b[38;5;124m\"\u001b[39m:\n\u001b[0;32m-> 1357\u001b[0m     \u001b[38;5;28;01mreturn\u001b[39;00m \u001b[43m_genicam\u001b[49m\u001b[38;5;241;43m.\u001b[39;49m\u001b[43mINodeMap_GetNode\u001b[49m\u001b[43m(\u001b[49m\u001b[38;5;28;43mself\u001b[39;49m\u001b[43m,\u001b[49m\u001b[43m \u001b[49m\u001b[43mName\u001b[49m\u001b[43m)\u001b[49m\n",
      "\u001b[0;31mLogicalErrorException\u001b[0m: Map not allocated : LogicalErrorException thrown (file 'NodeMap.cpp', line 278)"
     ]
    }
   ],
   "source": [
    "\n",
    "nodename = 'AcquisitionMode'\n",
    "value = 'Continuous'\n",
    "node = device.nodemap.GetNode(nodename)"
   ]
  },
  {
   "cell_type": "code",
   "execution_count": null,
   "id": "7074f139",
   "metadata": {},
   "outputs": [],
   "source": [
    "device.nodemap"
   ]
  },
  {
   "cell_type": "code",
   "execution_count": null,
   "id": "b38d257d",
   "metadata": {},
   "outputs": [],
   "source": []
  },
  {
   "cell_type": "code",
   "execution_count": null,
   "id": "4f521d68",
   "metadata": {},
   "outputs": [],
   "source": []
  },
  {
   "cell_type": "code",
   "execution_count": 10,
   "id": "d4f85147",
   "metadata": {
    "scrolled": true
   },
   "outputs": [
    {
     "name": "stdout",
     "output_type": "stream",
     "text": [
      "AcquisitionMode Continuous\n",
      "ERROR setting: AcquisitionMode Continuous\n"
     ]
    },
    {
     "name": "stderr",
     "output_type": "stream",
     "text": [
      "Traceback (most recent call last):\n",
      "  File \"/home/julianarhee/Repositories/PIMAQ/basler_utils.py\", line 181, in set_value\n",
      "    node = nodemap.GetNode(nodename)\n",
      "  File \"/home/julianarhee/anaconda3/envs/pimaq/lib/python3.8/site-packages/pypylon/genicam.py\", line 1357, in GetNode\n",
      "    return _genicam.INodeMap_GetNode(self, Name)\n",
      "_genicam.LogicalErrorException: Map not allocated : LogicalErrorException thrown (file 'NodeMap.cpp', line 278)\n"
     ]
    },
    {
     "ename": "ValueError",
     "evalue": "Error: Map not allocated : LogicalErrorException thrown (file 'NodeMap.cpp', line 278)",
     "output_type": "error",
     "traceback": [
      "\u001b[0;31m---------------------------------------------------------------------------\u001b[0m",
      "\u001b[0;31mLogicalErrorException\u001b[0m                     Traceback (most recent call last)",
      "File \u001b[0;32m~/Repositories/PIMAQ/basler_utils.py:181\u001b[0m, in \u001b[0;36mset_value\u001b[0;34m(nodemap, nodename, value)\u001b[0m\n\u001b[1;32m    180\u001b[0m \u001b[38;5;28;01mtry\u001b[39;00m:\n\u001b[0;32m--> 181\u001b[0m     node \u001b[38;5;241m=\u001b[39m \u001b[43mnodemap\u001b[49m\u001b[38;5;241;43m.\u001b[39;49m\u001b[43mGetNode\u001b[49m\u001b[43m(\u001b[49m\u001b[43mnodename\u001b[49m\u001b[43m)\u001b[49m\n\u001b[1;32m    182\u001b[0m     nodeval, typestring \u001b[38;5;241m=\u001b[39m get_nodeval_and_type(node)\n",
      "File \u001b[0;32m~/anaconda3/envs/pimaq/lib/python3.8/site-packages/pypylon/genicam.py:1357\u001b[0m, in \u001b[0;36mINodeMap.GetNode\u001b[0;34m(self, Name)\u001b[0m\n\u001b[1;32m   1356\u001b[0m \u001b[38;5;28;01mdef\u001b[39;00m \u001b[38;5;21mGetNode\u001b[39m(\u001b[38;5;28mself\u001b[39m, Name: \u001b[38;5;124m\"\u001b[39m\u001b[38;5;124mGENICAM_NAMESPACE::gcstring const &\u001b[39m\u001b[38;5;124m\"\u001b[39m) \u001b[38;5;241m-\u001b[39m\u001b[38;5;241m>\u001b[39m \u001b[38;5;124m\"\u001b[39m\u001b[38;5;124mGENAPI_NAMESPACE::INode *\u001b[39m\u001b[38;5;124m\"\u001b[39m:\n\u001b[0;32m-> 1357\u001b[0m     \u001b[38;5;28;01mreturn\u001b[39;00m \u001b[43m_genicam\u001b[49m\u001b[38;5;241;43m.\u001b[39;49m\u001b[43mINodeMap_GetNode\u001b[49m\u001b[43m(\u001b[49m\u001b[38;5;28;43mself\u001b[39;49m\u001b[43m,\u001b[49m\u001b[43m \u001b[49m\u001b[43mName\u001b[49m\u001b[43m)\u001b[49m\n",
      "\u001b[0;31mLogicalErrorException\u001b[0m: Map not allocated : LogicalErrorException thrown (file 'NodeMap.cpp', line 278)",
      "\nDuring handling of the above exception, another exception occurred:\n",
      "\u001b[0;31mValueError\u001b[0m                                Traceback (most recent call last)",
      "Input \u001b[0;32mIn [10]\u001b[0m, in \u001b[0;36m<cell line: 1>\u001b[0;34m()\u001b[0m\n\u001b[0;32m----> 1\u001b[0m \u001b[43mdevice\u001b[49m\u001b[38;5;241;43m.\u001b[39;49m\u001b[43mupdate_settings\u001b[49m\u001b[43m(\u001b[49m\u001b[43m)\u001b[49m\n",
      "File \u001b[0;32m~/Repositories/PIMAQ/devices.py:741\u001b[0m, in \u001b[0;36mBasler.update_settings\u001b[0;34m(self)\u001b[0m\n\u001b[1;32m    739\u001b[0m \u001b[38;5;28;01mfor\u001b[39;00m key, value \u001b[38;5;129;01min\u001b[39;00m \u001b[38;5;28mself\u001b[39m\u001b[38;5;241m.\u001b[39moptions\u001b[38;5;241m.\u001b[39mitems():\n\u001b[1;32m    740\u001b[0m     \u001b[38;5;28mprint\u001b[39m(key, value)\n\u001b[0;32m--> 741\u001b[0m     \u001b[43mbs\u001b[49m\u001b[38;5;241;43m.\u001b[39;49m\u001b[43mset_value\u001b[49m\u001b[43m(\u001b[49m\u001b[38;5;28;43mself\u001b[39;49m\u001b[38;5;241;43m.\u001b[39;49m\u001b[43mnodemap\u001b[49m\u001b[43m,\u001b[49m\u001b[43m \u001b[49m\u001b[43mkey\u001b[49m\u001b[43m,\u001b[49m\u001b[43m \u001b[49m\u001b[43mvalue\u001b[49m\u001b[43m)\u001b[49m\n\u001b[1;32m    742\u001b[0m \u001b[38;5;66;03m# changing strobe involves multiple variables in the correct order, so I've bundled\u001b[39;00m\n\u001b[1;32m    743\u001b[0m \u001b[38;5;66;03m# them into this function\u001b[39;00m\n\u001b[1;32m    744\u001b[0m bs\u001b[38;5;241m.\u001b[39mturn_strobe_on(\u001b[38;5;28mself\u001b[39m\u001b[38;5;241m.\u001b[39mnodemap, \u001b[38;5;28mself\u001b[39m\u001b[38;5;241m.\u001b[39mstrobe[\u001b[38;5;124m'\u001b[39m\u001b[38;5;124mline\u001b[39m\u001b[38;5;124m'\u001b[39m])\n",
      "File \u001b[0;32m~/Repositories/PIMAQ/basler_utils.py:223\u001b[0m, in \u001b[0;36mset_value\u001b[0;34m(nodemap, nodename, value)\u001b[0m\n\u001b[1;32m    221\u001b[0m \u001b[38;5;28mprint\u001b[39m(\u001b[38;5;124m\"\u001b[39m\u001b[38;5;124mERROR setting:\u001b[39m\u001b[38;5;124m\"\u001b[39m, nodename, value)\n\u001b[1;32m    222\u001b[0m traceback\u001b[38;5;241m.\u001b[39mprint_exc()\n\u001b[0;32m--> 223\u001b[0m \u001b[38;5;28;01mraise\u001b[39;00m \u001b[38;5;167;01mValueError\u001b[39;00m(\u001b[38;5;124m'\u001b[39m\u001b[38;5;124mError: \u001b[39m\u001b[38;5;132;01m%s\u001b[39;00m\u001b[38;5;124m'\u001b[39m \u001b[38;5;241m%\u001b[39me)\n",
      "\u001b[0;31mValueError\u001b[0m: Error: Map not allocated : LogicalErrorException thrown (file 'NodeMap.cpp', line 278)"
     ]
    }
   ],
   "source": [
    "device.update_settings()"
   ]
  },
  {
   "cell_type": "code",
   "execution_count": 10,
   "id": "3b201858",
   "metadata": {},
   "outputs": [
    {
     "data": {
      "text/plain": [
       "22513851"
      ]
     },
     "execution_count": 10,
     "metadata": {},
     "output_type": "execute_result"
    }
   ],
   "source": [
    "cam['serial']"
   ]
  },
  {
   "cell_type": "code",
   "execution_count": null,
   "id": "eaf3deaa",
   "metadata": {},
   "outputs": [],
   "source": [
    "device.start()"
   ]
  },
  {
   "cell_type": "markdown",
   "id": "90d47627",
   "metadata": {},
   "source": [
    "#### debug Basler instance "
   ]
  },
  {
   "cell_type": "code",
   "execution_count": 8,
   "id": "6478ebac",
   "metadata": {},
   "outputs": [],
   "source": [
    "max_cams=2\n",
    "tlFactory = pylon.TlFactory.GetInstance()\n",
    "devices = tlFactory.EnumerateDevices()\n",
    "cam_list = pylon.InstantCameraArray(min(len(devices), max_cams))\n"
   ]
  },
  {
   "cell_type": "code",
   "execution_count": 9,
   "id": "50c45f34",
   "metadata": {},
   "outputs": [
    {
     "name": "stdout",
     "output_type": "stream",
     "text": [
      "22297042\n"
     ]
    }
   ],
   "source": [
    "for ix, c in enumerate(cam_list):\n",
    "    c.Attach(tlFactory.CreateDevice(devices[ix]))\n",
    "    this_serial = c.DeviceInfo.GetSerialNumber() #py.get_serial_number(c)\n",
    "    print(this_serial)"
   ]
  },
  {
   "cell_type": "code",
   "execution_count": 11,
   "id": "c42f46b6",
   "metadata": {},
   "outputs": [],
   "source": [
    "testcam = c"
   ]
  },
  {
   "cell_type": "code",
   "execution_count": 13,
   "id": "41ac72c6",
   "metadata": {},
   "outputs": [],
   "source": [
    "testcam.Open()"
   ]
  },
  {
   "cell_type": "code",
   "execution_count": 17,
   "id": "c8e40bff",
   "metadata": {},
   "outputs": [],
   "source": [
    "c.TimestampLatch.Execute()\n"
   ]
  },
  {
   "cell_type": "code",
   "execution_count": 19,
   "id": "903d23f0",
   "metadata": {},
   "outputs": [],
   "source": [
    "testcam.AcquisitionStart.Execute()"
   ]
  },
  {
   "cell_type": "code",
   "execution_count": 26,
   "id": "a17ee689",
   "metadata": {},
   "outputs": [],
   "source": [
    "c.AcquisitionStop.Execute()"
   ]
  },
  {
   "cell_type": "code",
   "execution_count": null,
   "id": "ff681e41",
   "metadata": {},
   "outputs": [],
   "source": []
  },
  {
   "cell_type": "code",
   "execution_count": null,
   "id": "818dee40",
   "metadata": {},
   "outputs": [],
   "source": []
  },
  {
   "cell_type": "code",
   "execution_count": null,
   "id": "57c4fab6",
   "metadata": {},
   "outputs": [],
   "source": []
  },
  {
   "cell_type": "markdown",
   "id": "9f46d4a0",
   "metadata": {},
   "source": [
    "#### Node acccess"
   ]
  },
  {
   "cell_type": "code",
   "execution_count": 15,
   "id": "b1386ff4",
   "metadata": {},
   "outputs": [],
   "source": [
    "import pypylon"
   ]
  },
  {
   "cell_type": "code",
   "execution_count": 16,
   "id": "5b84f160",
   "metadata": {},
   "outputs": [],
   "source": [
    "nodemap = c.GetNodeMap()\n"
   ]
  },
  {
   "cell_type": "code",
   "execution_count": 17,
   "id": "cef0fbf1",
   "metadata": {},
   "outputs": [
    {
     "data": {
      "text/plain": [
       "<pypylon.genicam.INodeMap; proxy of <Swig Object of type 'GENAPI_NAMESPACE::INodeMap *' at 0x7f069a483450> >"
      ]
     },
     "execution_count": 17,
     "metadata": {},
     "output_type": "execute_result"
    }
   ],
   "source": [
    "nodemap"
   ]
  },
  {
   "cell_type": "code",
   "execution_count": 19,
   "id": "79fab957",
   "metadata": {},
   "outputs": [
    {
     "data": {
      "text/plain": [
       "(<pypylon.genicam.IEnumeration; proxy of <Swig Object of type 'GENAPI_NAMESPACE::IEnumeration *' at 0x7f069a4839f0> >,\n",
       " 'Continuous')"
      ]
     },
     "execution_count": 19,
     "metadata": {},
     "output_type": "execute_result"
    }
   ],
   "source": [
    "nodename= 'AcquisitionMode' ##'AcquisitionFrameRateEnable'\n",
    "value = 'cam['serial'], ' #'FrameStart'\n",
    "node = nodemap.GetNode(nodename)\n",
    "node, node.GetValue()"
   ]
  },
  {
   "cell_type": "code",
   "execution_count": 20,
   "id": "a40020eb",
   "metadata": {},
   "outputs": [],
   "source": [
    "def get_nodeval_and_type(node):\n",
    "    \n",
    "    return node, type(node)\n",
    "    "
   ]
  },
  {
   "cell_type": "code",
   "execution_count": 21,
   "id": "488ca587",
   "metadata": {},
   "outputs": [
    {
     "data": {
      "text/plain": [
       "(<pypylon.genicam.IEnumeration; proxy of <Swig Object of type 'GENAPI_NAMESPACE::IEnumeration *' at 0x7f069a4839f0> >,\n",
       " pypylon.genicam.IEnumeration)"
      ]
     },
     "execution_count": 21,
     "metadata": {},
     "output_type": "execute_result"
    }
   ],
   "source": [
    "nodeval, typestring = get_nodeval_and_type(node)\n",
    "nodeval, typestring\n"
   ]
  },
  {
   "cell_type": "code",
   "execution_count": 22,
   "id": "a0722a18",
   "metadata": {},
   "outputs": [
    {
     "ename": "AttributeError",
     "evalue": "'IEnumeration' object has no attribute 'GetMax'",
     "output_type": "error",
     "traceback": [
      "\u001b[0;31m---------------------------------------------------------------------------\u001b[0m",
      "\u001b[0;31mAttributeError\u001b[0m                            Traceback (most recent call last)",
      "Input \u001b[0;32mIn [22]\u001b[0m, in \u001b[0;36m<cell line: 1>\u001b[0;34m()\u001b[0m\n\u001b[0;32m----> 1\u001b[0m \u001b[43mnodeval\u001b[49m\u001b[38;5;241;43m.\u001b[39;49m\u001b[43mGetMax\u001b[49m()\n",
      "\u001b[0;31mAttributeError\u001b[0m: 'IEnumeration' object has no attribute 'GetMax'"
     ]
    }
   ],
   "source": [
    "nodeval.GetMax()"
   ]
  },
  {
   "cell_type": "code",
   "execution_count": 23,
   "id": "5c3e0818",
   "metadata": {},
   "outputs": [
    {
     "name": "stdout",
     "output_type": "stream",
     "text": [
      "EnumEntry_AcquisitionMode_SingleFrame\n",
      "EnumEntry_AcquisitionMode_Continuous\n"
     ]
    }
   ],
   "source": [
    "entrylist = nodeval.GetEntries()\n",
    "for entry in entrylist:\n",
    "   print(entry.Node.GetName())"
   ]
  },
  {
   "cell_type": "code",
   "execution_count": 24,
   "id": "c2dc8c80",
   "metadata": {},
   "outputs": [
    {
     "data": {
      "text/plain": [
       "pypylon.genicam.IEnumeration"
      ]
     },
     "execution_count": 24,
     "metadata": {},
     "output_type": "execute_result"
    }
   ],
   "source": [
    "typestring"
   ]
  },
  {
   "cell_type": "code",
   "execution_count": null,
   "id": "8e323c8c",
   "metadata": {},
   "outputs": [],
   "source": []
  },
  {
   "cell_type": "markdown",
   "id": "30d1584f",
   "metadata": {},
   "source": [
    "#### New function for setting values"
   ]
  },
  {
   "cell_type": "code",
   "execution_count": 25,
   "id": "c3d20e82",
   "metadata": {},
   "outputs": [],
   "source": [
    "if typestring in [pypylon.genicam.IFloat, pypylon.genicam.IInteger]:\n",
    "    assert(value <= nodeval.GetMax() and value >= nodeval.GetMin())\n",
    "    if typestring == pypylon.genicam.IInteger:\n",
    "        assert(type(value)==int)\n",
    "        if pypylon.genicam.IsAvailable(nodeval) and pypylon.genicam.IsWritable(nodeval):\n",
    "            nodeval.SetValue(value)\n",
    "        else:\n",
    "            raise ValueError('Node not writable or available: %s' %nodename)\n",
    "    elif typestring == pypylon.genicam.IFloat:\n",
    "        assert(type(value) in [float, int])\n",
    "        if pypylon.genicam.IsAvailable(nodeval) and pypylon.genicam.IsWritable(nodeval):\n",
    "            nodeval.SetValue(float(value))\n",
    "        else:\n",
    "            raise ValueError('Node not writable or available: %s' %nodename)\n",
    "elif typestring == pypylon.genicam.IEnumeration:\n",
    "    assert(type(value)==str)\n",
    "    entry = nodeval.GetEntryByName(value)\n",
    "    if entry is None:\n",
    "       print('Valid entries: ')\n",
    "       entrylist = nodeval.GetEntries()\n",
    "       for entry in entrylist:\n",
    "           print(entry.GetName())\n",
    "       raise ValueError('Invalid entry!: %s' %value)\n",
    "    #else:\n",
    "       #entry = PySpin.CEnumEntryPtr(entry)\n",
    "    if pypylon.genicam.IsAvailable(entry) and pypylon.genicam.IsReadable(entry):\n",
    "       nodeval.SetIntValue(entry.GetValue())\n",
    "    else:\n",
    "       raise ValueError('Entry not readable!')\n",
    "elif typestring == pypylon.genicam.IBoolean:\n",
    "   assert(type(value)==bool)\n",
    "   if pypylon.genicam.IsAvailable(nodeval) and pypylon.genicam.IsWritable(nodeval):\n",
    "       nodeval.SetValue(value)\n",
    "   else:\n",
    "       raise ValueError('Node not writable or available: %s' %nodename)\n",
    "        "
   ]
  },
  {
   "cell_type": "code",
   "execution_count": 26,
   "id": "bc7ed7e5",
   "metadata": {},
   "outputs": [
    {
     "data": {
      "text/plain": [
       "str"
      ]
     },
     "execution_count": 26,
     "metadata": {},
     "output_type": "execute_result"
    }
   ],
   "source": [
    "type(value)\n"
   ]
  },
  {
   "cell_type": "code",
   "execution_count": 27,
   "id": "cc802061",
   "metadata": {},
   "outputs": [
    {
     "data": {
      "text/plain": [
       "'Continuous'"
      ]
     },
     "execution_count": 27,
     "metadata": {},
     "output_type": "execute_result"
    }
   ],
   "source": [
    "nodeval.GetValue()"
   ]
  },
  {
   "cell_type": "markdown",
   "id": "a9eb5edc",
   "metadata": {},
   "source": [
    "##### testing enum"
   ]
  },
  {
   "cell_type": "code",
   "execution_count": 28,
   "id": "0366ab32",
   "metadata": {},
   "outputs": [],
   "source": [
    "entry = nodeval.GetEntryByName('Continuous')"
   ]
  },
  {
   "cell_type": "code",
   "execution_count": 29,
   "id": "9d1bbb42",
   "metadata": {},
   "outputs": [],
   "source": [
    "\n",
    "if entry is None:\n",
    "   print('Valid entries: ')\n",
    "   entrylist = nodeval.GetEntries()\n",
    "   for entry in entrylist:\n",
    "       print(entry.GetName())\n",
    "   raise ValueError('Invalid entry!: %s' %value)\n",
    "#else:\n",
    "   #entry = PySpin.CEnumEntryPtr(entry)\n",
    "if pypylon.genicam.IsAvailable(entry) and pypylon.genicam.IsReadable(entry):\n",
    "   nodeval.SetIntValue(entry.GetValue())\n",
    "else:\n",
    "   raise ValueError('Entry not readable!')\n"
   ]
  },
  {
   "cell_type": "code",
   "execution_count": 30,
   "id": "066dd9b5",
   "metadata": {},
   "outputs": [
    {
     "data": {
      "text/plain": [
       "'Continuous'"
      ]
     },
     "execution_count": 30,
     "metadata": {},
     "output_type": "execute_result"
    }
   ],
   "source": [
    "node.GetValue()"
   ]
  },
  {
   "cell_type": "code",
   "execution_count": 77,
   "id": "fb3c502c",
   "metadata": {},
   "outputs": [
    {
     "data": {
      "text/plain": [
       "pypylon.genicam.IInteger"
      ]
     },
     "execution_count": 77,
     "metadata": {},
     "output_type": "execute_result"
    }
   ],
   "source": [
    "type(node)\n"
   ]
  },
  {
   "cell_type": "code",
   "execution_count": 30,
   "id": "49631d96",
   "metadata": {},
   "outputs": [
    {
     "data": {
      "text/plain": [
       "False"
      ]
     },
     "execution_count": 30,
     "metadata": {},
     "output_type": "execute_result"
    }
   ],
   "source": [
    "pypylon.genicam.IInteger == node.Node.GetPrincipalInterfaceType()"
   ]
  },
  {
   "cell_type": "code",
   "execution_count": 116,
   "id": "40a22118",
   "metadata": {},
   "outputs": [],
   "source": [
    "import pypylon\n",
    "import importlib"
   ]
  },
  {
   "cell_type": "code",
   "execution_count": 117,
   "id": "ba079e93",
   "metadata": {},
   "outputs": [
    {
     "data": {
      "text/plain": [
       "_genicam.AccessException()"
      ]
     },
     "execution_count": 117,
     "metadata": {},
     "output_type": "execute_result"
    }
   ],
   "source": [
    "pypylon.genicam.AccessException()"
   ]
  },
  {
   "cell_type": "code",
   "execution_count": 118,
   "id": "cbf09e39",
   "metadata": {},
   "outputs": [],
   "source": [
    "import basler_utils as bs"
   ]
  },
  {
   "cell_type": "code",
   "execution_count": 119,
   "id": "95bb65c4",
   "metadata": {},
   "outputs": [],
   "source": [
    "#{'strobe': {'line': 2, 'duration': 0.0}}\n",
    "line=4\n"
   ]
  },
  {
   "cell_type": "code",
   "execution_count": 161,
   "id": "db66541d",
   "metadata": {},
   "outputs": [
    {
     "data": {
      "text/plain": [
       "<module 'basler_utils' from '/home/julianarhee/Repositories/PIMAQ/basler_utils.py'>"
      ]
     },
     "execution_count": 161,
     "metadata": {},
     "output_type": "execute_result"
    }
   ],
   "source": [
    "importlib.reload(bs)"
   ]
  },
  {
   "cell_type": "code",
   "execution_count": 162,
   "id": "3767e648",
   "metadata": {},
   "outputs": [
    {
     "data": {
      "text/plain": [
       "'Line4'"
      ]
     },
     "execution_count": 162,
     "metadata": {},
     "output_type": "execute_result"
    }
   ],
   "source": [
    "assert(type(line)==int)\n",
    "linestr = 'Line%d'%line\n",
    "linestr"
   ]
  },
  {
   "cell_type": "code",
   "execution_count": 163,
   "id": "66ebb763",
   "metadata": {},
   "outputs": [],
   "source": [
    "bs.turn_strobe_on(nodemap, line)"
   ]
  },
  {
   "cell_type": "code",
   "execution_count": null,
   "id": "d8c0a1ab",
   "metadata": {},
   "outputs": [],
   "source": []
  },
  {
   "cell_type": "code",
   "execution_count": null,
   "id": "56d66b02",
   "metadata": {},
   "outputs": [],
   "source": []
  }
 ],
 "metadata": {
  "kernelspec": {
   "display_name": "Python 3 (ipykernel)",
   "language": "python",
   "name": "python3"
  },
  "language_info": {
   "codemirror_mode": {
    "name": "ipython",
    "version": 3
   },
   "file_extension": ".py",
   "mimetype": "text/x-python",
   "name": "python",
   "nbconvert_exporter": "python",
   "pygments_lexer": "ipython3",
   "version": "3.8.13"
  }
 },
 "nbformat": 4,
 "nbformat_minor": 5
}
